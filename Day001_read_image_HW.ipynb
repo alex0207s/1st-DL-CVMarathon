{
 "cells": [
  {
   "cell_type": "markdown",
   "metadata": {},
   "source": [
    "# 作業\n",
    "\n",
    "思考一下我們前面有提到圖片是矩陣，但維度可能會不一樣\n",
    "例如灰階圖只有兩個維度，RGB 彩圖則有 3 個維度\n",
    "\n",
    "假如今天我們把 RGB 3 個維度拆開來看會有甚麼不同的效果呢？"
   ]
  },
  {
   "cell_type": "code",
   "execution_count": 1,
   "metadata": {},
   "outputs": [],
   "source": [
    "import cv2\n",
    "\n",
    "img_path ='data/lena.png'\n",
    "\n",
    "img = cv2.imread(img_path, cv2.IMREAD_COLOR)\n",
    "\n",
    "imgB = img.copy()\n",
    "imgB[:, :, 1] = 0\n",
    "imgB[:, :, 2] = 0\n",
    "\n",
    "imgG = img.copy()\n",
    "imgG[:, :, 0] = 0\n",
    "imgG[:, :, 2] = 0\n",
    "\n",
    "imgR = img.copy()\n",
    "imgR[:, :, 0] = 0\n",
    "imgR[:, :, 1] = 0\n",
    "\n",
    "while True:\n",
    "    #原圖\n",
    "    cv2.imshow('bgr', img)\n",
    "    #顯示r, g, b\n",
    "    cv2.imshow('red channel', imgR)\n",
    "    cv2.imshow('green channel', imgG)\n",
    "    cv2.imshow('blue channel', imgB)\n",
    "    \n",
    "    k = cv2.waitKey(0)\n",
    "    if k == 27:\n",
    "        cv2.destroyAllWindows()\n",
    "        break"
   ]
  }
 ],
 "metadata": {
  "kernelspec": {
   "display_name": "Python 3",
   "language": "python",
   "name": "python3"
  },
  "language_info": {
   "codemirror_mode": {
    "name": "ipython",
    "version": 3
   },
   "file_extension": ".py",
   "mimetype": "text/x-python",
   "name": "python",
   "nbconvert_exporter": "python",
   "pygments_lexer": "ipython3",
   "version": "3.7.5"
  }
 },
 "nbformat": 4,
 "nbformat_minor": 2
}
