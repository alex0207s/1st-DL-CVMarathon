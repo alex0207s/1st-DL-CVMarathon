{
 "cells": [
  {
   "cell_type": "markdown",
   "metadata": {},
   "source": [
    "## 『本次練習內容』\n",
    "#### 運用這幾天所學觀念搭建一個CNN分類器"
   ]
  },
  {
   "cell_type": "markdown",
   "metadata": {},
   "source": [
    "## 『本次練習目的』\n",
    "  #### 熟悉CNN分類器搭建步驟與原理\n",
    "  #### 學員們可以嘗試不同搭法，如使用不同的Maxpooling層，用GlobalAveragePooling取代Flatten等等"
   ]
  },
  {
   "cell_type": "code",
   "execution_count": 1,
   "metadata": {},
   "outputs": [
    {
     "name": "stderr",
     "output_type": "stream",
     "text": [
      "Using TensorFlow backend.\n"
     ]
    }
   ],
   "source": [
    "from keras.models import Sequential\n",
    "from keras.layers import Convolution2D\n",
    "from keras.layers import MaxPooling2D\n",
    "from keras.layers import Flatten\n",
    "from keras.layers import Dense\n",
    "from keras.layers import Dropout\n",
    "from keras.layers import BatchNormalization\n",
    "from keras.datasets import cifar10\n",
    "import numpy as np\n",
    "import tensorflow as tf\n",
    "from sklearn.preprocessing import OneHotEncoder\n"
   ]
  },
  {
   "cell_type": "code",
   "execution_count": 2,
   "metadata": {},
   "outputs": [
    {
     "name": "stdout",
     "output_type": "stream",
     "text": [
      "(50000, 32, 32, 3)\n"
     ]
    }
   ],
   "source": [
    "(x_train, y_train), (x_test, y_test) = cifar10.load_data()\n",
    "\n",
    "print(x_train.shape) #(50000, 32, 32, 3)\n",
    "\n",
    "## Normalize Data\n",
    "def normalize(X_train,X_test):\n",
    "        mean = np.mean(X_train,axis=(0,1,2,3))\n",
    "        std = np.std(X_train, axis=(0, 1, 2, 3))\n",
    "        X_train = (X_train-mean)/(std+1e-7)\n",
    "        X_test = (X_test-mean)/(std+1e-7) \n",
    "        return X_train, X_test,mean,std\n",
    "    \n",
    "    \n",
    "## Normalize Training and Testset    \n",
    "x_train, x_test,mean_train,std_train = normalize(x_train, x_test) "
   ]
  },
  {
   "cell_type": "code",
   "execution_count": 3,
   "metadata": {},
   "outputs": [
    {
     "name": "stderr",
     "output_type": "stream",
     "text": [
      "C:\\Users\\useR\\Anaconda3\\envs\\tensorflow_gpu\\lib\\site-packages\\sklearn\\preprocessing\\_encoders.py:363: FutureWarning: The handling of integer data will change in version 0.22. Currently, the categories are determined based on the range [0, max(values)], while in the future they will be determined based on the unique values.\n",
      "If you want the future behaviour and silence this warning, you can specify \"categories='auto'\".\n",
      "In case you used a LabelEncoder before this OneHotEncoder to convert the categories to integers, then you can now use the OneHotEncoder directly.\n",
      "  warnings.warn(msg, FutureWarning)\n"
     ]
    }
   ],
   "source": [
    "## OneHot Label 由(None, 1)-(None, 10)\n",
    "## ex. label=2,變成[0,0,1,0,0,0,0,0,0,0]\n",
    "one_hot=OneHotEncoder()\n",
    "y_train=one_hot.fit_transform(y_train).toarray()\n",
    "y_test=one_hot.transform(y_test).toarray()"
   ]
  },
  {
   "cell_type": "code",
   "execution_count": 4,
   "metadata": {},
   "outputs": [
    {
     "name": "stderr",
     "output_type": "stream",
     "text": [
      "C:\\Users\\useR\\Anaconda3\\envs\\tensorflow_gpu\\lib\\site-packages\\ipykernel_launcher.py:22: UserWarning: Update your `Dense` call to the Keras 2 API: `Dense(activation=\"softmax\", units=10)`\n"
     ]
    },
    {
     "name": "stdout",
     "output_type": "stream",
     "text": [
      "Epoch 1/100\n",
      "50000/50000 [==============================] - 8s 162us/step - loss: 1.3058 - acc: 0.5427\n",
      "Epoch 2/100\n",
      "50000/50000 [==============================] - 6s 118us/step - loss: 0.9053 - acc: 0.6836\n",
      "Epoch 3/100\n",
      "50000/50000 [==============================] - 6s 125us/step - loss: 0.7590 - acc: 0.7372\n",
      "Epoch 4/100\n",
      "50000/50000 [==============================] - 6s 125us/step - loss: 0.6629 - acc: 0.7721\n",
      "Epoch 5/100\n",
      "50000/50000 [==============================] - 6s 129us/step - loss: 0.5792 - acc: 0.8005\n",
      "Epoch 6/100\n",
      "50000/50000 [==============================] - 6s 130us/step - loss: 0.5089 - acc: 0.8229\n",
      "Epoch 7/100\n",
      "50000/50000 [==============================] - 7s 130us/step - loss: 0.4477 - acc: 0.8456\n",
      "Epoch 8/100\n",
      "50000/50000 [==============================] - 7s 131us/step - loss: 0.3902 - acc: 0.8659\n",
      "Epoch 9/100\n",
      "50000/50000 [==============================] - 6s 121us/step - loss: 0.3443 - acc: 0.8819\n",
      "Epoch 10/100\n",
      "50000/50000 [==============================] - 6s 123us/step - loss: 0.3030 - acc: 0.8964\n",
      "Epoch 11/100\n",
      "50000/50000 [==============================] - 6s 122us/step - loss: 0.2548 - acc: 0.9139\n",
      "Epoch 12/100\n",
      "50000/50000 [==============================] - 6s 120us/step - loss: 0.2215 - acc: 0.9253\n",
      "Epoch 13/100\n",
      "50000/50000 [==============================] - 6s 127us/step - loss: 0.2010 - acc: 0.9293\n",
      "Epoch 14/100\n",
      "50000/50000 [==============================] - 7s 138us/step - loss: 0.1685 - acc: 0.9426\n",
      "Epoch 15/100\n",
      "50000/50000 [==============================] - 6s 117us/step - loss: 0.1537 - acc: 0.9474\n",
      "Epoch 16/100\n",
      "50000/50000 [==============================] - 6s 127us/step - loss: 0.1297 - acc: 0.9560\n",
      "Epoch 17/100\n",
      "50000/50000 [==============================] - 6s 124us/step - loss: 0.1140 - acc: 0.9624\n",
      "Epoch 18/100\n",
      "50000/50000 [==============================] - 6s 127us/step - loss: 0.1156 - acc: 0.9591\n",
      "Epoch 19/100\n",
      "50000/50000 [==============================] - 6s 122us/step - loss: 0.1055 - acc: 0.9641\n",
      "Epoch 20/100\n",
      "50000/50000 [==============================] - 6s 122us/step - loss: 0.0887 - acc: 0.9702\n",
      "Epoch 21/100\n",
      "50000/50000 [==============================] - 6s 124us/step - loss: 0.0786 - acc: 0.9735\n",
      "Epoch 22/100\n",
      "50000/50000 [==============================] - 6s 129us/step - loss: 0.0772 - acc: 0.9729\n",
      "Epoch 23/100\n",
      "50000/50000 [==============================] - 6s 128us/step - loss: 0.0826 - acc: 0.9705\n",
      "Epoch 24/100\n",
      "50000/50000 [==============================] - 6s 119us/step - loss: 0.0930 - acc: 0.9671\n",
      "Epoch 25/100\n",
      "50000/50000 [==============================] - 6s 125us/step - loss: 0.0886 - acc: 0.9673\n",
      "Epoch 26/100\n",
      "50000/50000 [==============================] - 6s 124us/step - loss: 0.0657 - acc: 0.9769\n",
      "Epoch 27/100\n",
      "50000/50000 [==============================] - 6s 117us/step - loss: 0.0498 - acc: 0.9830\n",
      "Epoch 28/100\n",
      "50000/50000 [==============================] - 6s 117us/step - loss: 0.0528 - acc: 0.9816\n",
      "Epoch 29/100\n",
      "50000/50000 [==============================] - 6s 122us/step - loss: 0.0772 - acc: 0.9730\n",
      "Epoch 30/100\n",
      "50000/50000 [==============================] - 6s 117us/step - loss: 0.0689 - acc: 0.9751\n",
      "Epoch 31/100\n",
      "50000/50000 [==============================] - 6s 121us/step - loss: 0.0615 - acc: 0.9785\n",
      "Epoch 32/100\n",
      "50000/50000 [==============================] - 6s 124us/step - loss: 0.0521 - acc: 0.9826\n",
      "Epoch 33/100\n",
      "50000/50000 [==============================] - 6s 121us/step - loss: 0.0582 - acc: 0.9792\n",
      "Epoch 34/100\n",
      "50000/50000 [==============================] - 6s 121us/step - loss: 0.0483 - acc: 0.9831\n",
      "Epoch 35/100\n",
      "50000/50000 [==============================] - 6s 121us/step - loss: 0.0508 - acc: 0.9824\n",
      "Epoch 36/100\n",
      "50000/50000 [==============================] - 6s 120us/step - loss: 0.0574 - acc: 0.9797\n",
      "Epoch 37/100\n",
      "50000/50000 [==============================] - 6s 124us/step - loss: 0.0416 - acc: 0.9857\n",
      "Epoch 38/100\n",
      "50000/50000 [==============================] - 6s 119us/step - loss: 0.0514 - acc: 0.9819\n",
      "Epoch 39/100\n",
      "50000/50000 [==============================] - 6s 120us/step - loss: 0.0527 - acc: 0.9817\n",
      "Epoch 40/100\n",
      "50000/50000 [==============================] - 6s 117us/step - loss: 0.0582 - acc: 0.9801\n",
      "Epoch 41/100\n",
      "50000/50000 [==============================] - 6s 122us/step - loss: 0.0342 - acc: 0.9883\n",
      "Epoch 42/100\n",
      "50000/50000 [==============================] - 6s 122us/step - loss: 0.0423 - acc: 0.9854\n",
      "Epoch 43/100\n",
      "50000/50000 [==============================] - 6s 119us/step - loss: 0.0541 - acc: 0.9811\n",
      "Epoch 44/100\n",
      "50000/50000 [==============================] - 6s 117us/step - loss: 0.0462 - acc: 0.9835\n",
      "Epoch 45/100\n",
      "50000/50000 [==============================] - 6s 118us/step - loss: 0.0384 - acc: 0.9869\n",
      "Epoch 46/100\n",
      "50000/50000 [==============================] - 6s 118us/step - loss: 0.0395 - acc: 0.9861\n",
      "Epoch 47/100\n",
      "50000/50000 [==============================] - 6s 121us/step - loss: 0.0415 - acc: 0.9846\n",
      "Epoch 48/100\n",
      "50000/50000 [==============================] - 6s 125us/step - loss: 0.0578 - acc: 0.9803\n",
      "Epoch 49/100\n",
      "50000/50000 [==============================] - 7s 136us/step - loss: 0.0441 - acc: 0.9840 1s - loss: 0.0430 - acc: 0. - ETA: 1s - loss: 0.0425 -  - ETA: 1s - los\n",
      "Epoch 50/100\n",
      "50000/50000 [==============================] - 6s 127us/step - loss: 0.0363 - acc: 0.9866\n",
      "Epoch 51/100\n",
      "50000/50000 [==============================] - 6s 127us/step - loss: 0.0352 - acc: 0.9885\n",
      "Epoch 52/100\n",
      "50000/50000 [==============================] - 6s 125us/step - loss: 0.0297 - acc: 0.9903\n",
      "Epoch 53/100\n",
      "50000/50000 [==============================] - 6s 122us/step - loss: 0.0377 - acc: 0.9869\n",
      "Epoch 54/100\n",
      "50000/50000 [==============================] - 6s 128us/step - loss: 0.0449 - acc: 0.9845\n",
      "Epoch 55/100\n",
      "50000/50000 [==============================] - 6s 120us/step - loss: 0.0439 - acc: 0.9846 1s - loss: 0\n",
      "Epoch 56/100\n",
      "50000/50000 [==============================] - 6s 121us/step - loss: 0.0371 - acc: 0.9877\n",
      "Epoch 57/100\n",
      "50000/50000 [==============================] - 6s 126us/step - loss: 0.0285 - acc: 0.9900\n",
      "Epoch 58/100\n",
      "50000/50000 [==============================] - 6s 120us/step - loss: 0.0262 - acc: 0.9913\n",
      "Epoch 59/100\n",
      "50000/50000 [==============================] - 6s 117us/step - loss: 0.0425 - acc: 0.9862\n",
      "Epoch 60/100\n",
      "50000/50000 [==============================] - 6s 116us/step - loss: 0.0496 - acc: 0.9835\n",
      "Epoch 61/100\n",
      "50000/50000 [==============================] - 6s 118us/step - loss: 0.0419 - acc: 0.9853\n",
      "Epoch 62/100\n",
      "50000/50000 [==============================] - 6s 125us/step - loss: 0.0282 - acc: 0.9906\n",
      "Epoch 63/100\n",
      "50000/50000 [==============================] - 6s 117us/step - loss: 0.0193 - acc: 0.9938\n",
      "Epoch 64/100\n",
      "50000/50000 [==============================] - 6s 123us/step - loss: 0.0283 - acc: 0.9902\n",
      "Epoch 65/100\n",
      "50000/50000 [==============================] - 6s 125us/step - loss: 0.0497 - acc: 0.9836\n",
      "Epoch 66/100\n",
      "50000/50000 [==============================] - 6s 126us/step - loss: 0.0386 - acc: 0.9873\n",
      "Epoch 67/100\n",
      "50000/50000 [==============================] - 6s 123us/step - loss: 0.0337 - acc: 0.9885\n",
      "Epoch 68/100\n",
      "50000/50000 [==============================] - 6s 122us/step - loss: 0.0255 - acc: 0.9912\n",
      "Epoch 69/100\n",
      "50000/50000 [==============================] - 6s 128us/step - loss: 0.0307 - acc: 0.9894\n",
      "Epoch 70/100\n",
      "50000/50000 [==============================] - 6s 126us/step - loss: 0.0339 - acc: 0.9888\n",
      "Epoch 71/100\n",
      "50000/50000 [==============================] - 6s 122us/step - loss: 0.0296 - acc: 0.9897\n",
      "Epoch 72/100\n",
      "50000/50000 [==============================] - 6s 120us/step - loss: 0.0307 - acc: 0.9891\n",
      "Epoch 73/100\n",
      "50000/50000 [==============================] - 6s 120us/step - loss: 0.0328 - acc: 0.9888\n",
      "Epoch 74/100\n",
      "50000/50000 [==============================] - 6s 121us/step - loss: 0.0283 - acc: 0.9899\n",
      "Epoch 75/100\n",
      "50000/50000 [==============================] - 6s 121us/step - loss: 0.0364 - acc: 0.9875\n",
      "Epoch 76/100\n",
      "50000/50000 [==============================] - 6s 122us/step - loss: 0.0283 - acc: 0.9901\n",
      "Epoch 77/100\n",
      "50000/50000 [==============================] - 6s 120us/step - loss: 0.0240 - acc: 0.9919\n",
      "Epoch 78/100\n",
      "50000/50000 [==============================] - 6s 120us/step - loss: 0.0242 - acc: 0.9923\n",
      "Epoch 79/100\n"
     ]
    },
    {
     "name": "stdout",
     "output_type": "stream",
     "text": [
      "50000/50000 [==============================] - 6s 122us/step - loss: 0.0342 - acc: 0.9886\n",
      "Epoch 80/100\n",
      "50000/50000 [==============================] - 6s 123us/step - loss: 0.0298 - acc: 0.9901\n",
      "Epoch 81/100\n",
      "50000/50000 [==============================] - 6s 122us/step - loss: 0.0264 - acc: 0.9909\n",
      "Epoch 82/100\n",
      "50000/50000 [==============================] - 6s 127us/step - loss: 0.0280 - acc: 0.9902\n",
      "Epoch 83/100\n",
      "50000/50000 [==============================] - 6s 128us/step - loss: 0.0330 - acc: 0.9884\n",
      "Epoch 84/100\n",
      "50000/50000 [==============================] - 6s 120us/step - loss: 0.0272 - acc: 0.9907\n",
      "Epoch 85/100\n",
      "50000/50000 [==============================] - 6s 121us/step - loss: 0.0254 - acc: 0.9914\n",
      "Epoch 86/100\n",
      "50000/50000 [==============================] - 6s 126us/step - loss: 0.0221 - acc: 0.9925\n",
      "Epoch 87/100\n",
      "50000/50000 [==============================] - 6s 126us/step - loss: 0.0222 - acc: 0.9925\n",
      "Epoch 88/100\n",
      "50000/50000 [==============================] - 6s 127us/step - loss: 0.0257 - acc: 0.9912\n",
      "Epoch 89/100\n",
      "50000/50000 [==============================] - 6s 125us/step - loss: 0.0348 - acc: 0.9891\n",
      "Epoch 90/100\n",
      "50000/50000 [==============================] - 6s 118us/step - loss: 0.0271 - acc: 0.9908\n",
      "Epoch 91/100\n",
      "50000/50000 [==============================] - 6s 123us/step - loss: 0.0209 - acc: 0.9929\n",
      "Epoch 92/100\n",
      "50000/50000 [==============================] - 6s 122us/step - loss: 0.0194 - acc: 0.9932\n",
      "Epoch 93/100\n",
      "50000/50000 [==============================] - 6s 121us/step - loss: 0.0297 - acc: 0.9903\n",
      "Epoch 94/100\n",
      "50000/50000 [==============================] - 6s 125us/step - loss: 0.0255 - acc: 0.9913 0s - loss: 0.0250 - acc: 0.9\n",
      "Epoch 95/100\n",
      "50000/50000 [==============================] - 6s 123us/step - loss: 0.0250 - acc: 0.9918\n",
      "Epoch 96/100\n",
      "50000/50000 [==============================] - 6s 120us/step - loss: 0.0196 - acc: 0.9934\n",
      "Epoch 97/100\n",
      "50000/50000 [==============================] - 6s 119us/step - loss: 0.0245 - acc: 0.9916\n",
      "Epoch 98/100\n",
      "50000/50000 [==============================] - 6s 120us/step - loss: 0.0250 - acc: 0.9916\n",
      "Epoch 99/100\n",
      "50000/50000 [==============================] - 6s 122us/step - loss: 0.0235 - acc: 0.9924\n",
      "Epoch 100/100\n",
      "50000/50000 [==============================] - 6s 120us/step - loss: 0.0217 - acc: 0.9925\n"
     ]
    },
    {
     "data": {
      "text/plain": [
       "<keras.callbacks.History at 0x2ac9526d668>"
      ]
     },
     "execution_count": 4,
     "metadata": {},
     "output_type": "execute_result"
    }
   ],
   "source": [
    "classifier=Sequential()\n",
    "\n",
    "#卷積組合\n",
    "classifier.add(Convolution2D(filters=32, kernel_size=(3, 3), activation='relu', input_shape=(32, 32, 3)))#32,3,3,input_shape=(32,32,3),activation='relu''\n",
    "classifier.add(MaxPooling2D(pool_size=(2,2)))\n",
    "classifier.add(BatchNormalization())\n",
    "\n",
    "'''自己決定MaxPooling2D放在哪裡'''\n",
    "\n",
    "#卷積組合\n",
    "classifier.add(Convolution2D(filters=32, kernel_size=(3, 3), activation='relu'))\n",
    "classifier.add(MaxPooling2D(pool_size=(2,2)))\n",
    "classifier.add(BatchNormalization())\n",
    "\n",
    "#flatten\n",
    "classifier.add(Flatten())\n",
    "\n",
    "#FC\n",
    "classifier.add(Dense(units=100, activation='relu')) #output_dim=100,activation=relu\n",
    "\n",
    "#輸出\n",
    "classifier.add(Dense(output_dim=10,activation='softmax'))\n",
    "\n",
    "#超過兩個就要選categorical_crossentrophy\n",
    "classifier.compile(optimizer = 'adam', loss = 'categorical_crossentropy', metrics = ['accuracy'])\n",
    "classifier.fit(x_train,y_train,batch_size=128,epochs=100)"
   ]
  },
  {
   "cell_type": "markdown",
   "metadata": {},
   "source": [
    "## 預測新圖片，輸入影像前處理要與訓練時相同\n",
    "#### ((X-mean)/(std+1e-7) ):這裡的mean跟std是訓練集的\n",
    "## 維度如下方示範"
   ]
  },
  {
   "cell_type": "code",
   "execution_count": 5,
   "metadata": {},
   "outputs": [
    {
     "data": {
      "text/plain": [
       "array([[1.9325055e-10, 2.2543016e-20, 4.1391857e-02, 9.4442493e-01,\n",
       "        1.4180411e-02, 1.6609909e-09, 2.8446468e-06, 4.4879447e-09,\n",
       "        7.2578588e-09, 1.3412018e-17]], dtype=float32)"
      ]
     },
     "execution_count": 5,
     "metadata": {},
     "output_type": "execute_result"
    }
   ],
   "source": [
    "input_example=(np.zeros(shape=(1,32,32,3))-mean_train)/(std_train+1e-7) \n",
    "classifier.predict(input_example)"
   ]
  }
 ],
 "metadata": {
  "kernelspec": {
   "display_name": "Python(tensorflow-gpu)",
   "language": "python",
   "name": "tensorflow-gpu"
  },
  "language_info": {
   "codemirror_mode": {
    "name": "ipython",
    "version": 3
   },
   "file_extension": ".py",
   "mimetype": "text/x-python",
   "name": "python",
   "nbconvert_exporter": "python",
   "pygments_lexer": "ipython3",
   "version": "3.5.6"
  }
 },
 "nbformat": 4,
 "nbformat_minor": 2
}
